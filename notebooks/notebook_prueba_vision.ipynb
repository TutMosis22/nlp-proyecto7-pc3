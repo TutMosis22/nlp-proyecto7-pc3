{
 "cells": [
  {
   "cell_type": "code",
   "execution_count": 2,
   "id": "c84a4ea2",
   "metadata": {},
   "outputs": [
    {
     "name": "stdout",
     "output_type": "stream",
     "text": [
      "c:\\Users\\calag\\Desktop\\nlp-proyecto7-pc3\n"
     ]
    }
   ],
   "source": [
    "%cd .."
   ]
  },
  {
   "cell_type": "code",
   "execution_count": 6,
   "id": "3d84da0d",
   "metadata": {},
   "outputs": [],
   "source": [
    "from src.vision_encoder import VisionEncoder\n",
    "from torchvision import transforms\n",
    "from PIL import Image\n",
    "import torch"
   ]
  },
  {
   "cell_type": "code",
   "execution_count": 9,
   "id": "2904eab9",
   "metadata": {},
   "outputs": [
    {
     "name": "stdout",
     "output_type": "stream",
     "text": [
      "Downloading: \"https://download.pytorch.org/models/vit_b_16-c867db91.pth\" to C:\\Users\\calag/.cache\\torch\\hub\\checkpoints\\vit_b_16-c867db91.pth\n"
     ]
    },
    {
     "name": "stderr",
     "output_type": "stream",
     "text": [
      "100.0%\n"
     ]
    },
    {
     "name": "stdout",
     "output_type": "stream",
     "text": [
      "Shape del embedding visual: torch.Size([1, 768])\n"
     ]
    }
   ],
   "source": [
    "#MI IMAGEN DE PRUEBA\n",
    "img = Image.open(\"notebooks/dibujo_mio.png\").convert(\"RGB\")\n",
    "\n",
    "#TRANSFORMACIÓN QUE ViT ESPERA\n",
    "transform = transforms.Compose([\n",
    "    transforms.Resize((224, 224)),\n",
    "    transforms.ToTensor(),\n",
    "    transforms.Normalize(mean=[0.5]*3, std=[0.5]*3)\n",
    "])\n",
    "\n",
    "img_tensor = transform(img).unsqueeze(0)  # (1, 3, 224, 224)\n",
    "\n",
    "device = torch.device(\"cuda\" if torch.cuda.is_available() else \"cpu\")\n",
    "encoder = VisionEncoder(device=device)\n",
    "\n",
    "with torch.no_grad():\n",
    "    output = encoder(img_tensor.to(device))\n",
    "\n",
    "print(\"Shape del embedding visual:\", output.shape)"
   ]
  },
  {
   "cell_type": "markdown",
   "id": "3f5ce047",
   "metadata": {},
   "source": [
    "Prueba básica para \"text_encoder.py\""
   ]
  },
  {
   "cell_type": "code",
   "execution_count": 3,
   "id": "1592a67a",
   "metadata": {},
   "outputs": [
    {
     "name": "stderr",
     "output_type": "stream",
     "text": [
      "c:\\Users\\calag\\Desktop\\nlp-proyecto7-pc3\\venv\\Lib\\site-packages\\tqdm\\auto.py:21: TqdmWarning: IProgress not found. Please update jupyter and ipywidgets. See https://ipywidgets.readthedocs.io/en/stable/user_install.html\n",
      "  from .autonotebook import tqdm as notebook_tqdm\n",
      "c:\\Users\\calag\\Desktop\\nlp-proyecto7-pc3\\venv\\Lib\\site-packages\\huggingface_hub\\file_download.py:143: UserWarning: `huggingface_hub` cache-system uses symlinks by default to efficiently store duplicated files but your machine does not support them in C:\\Users\\calag\\.cache\\huggingface\\hub\\models--distilbert-base-uncased. Caching files will still work but in a degraded version that might require more space on your disk. This warning can be disabled by setting the `HF_HUB_DISABLE_SYMLINKS_WARNING` environment variable. For more details, see https://huggingface.co/docs/huggingface_hub/how-to-cache#limitations.\n",
      "To support symlinks on Windows, you either need to activate Developer Mode or to run Python as an administrator. In order to activate developer mode, see this article: https://docs.microsoft.com/en-us/windows/apps/get-started/enable-your-device-for-development\n",
      "  warnings.warn(message)\n",
      "Xet Storage is enabled for this repo, but the 'hf_xet' package is not installed. Falling back to regular HTTP download. For better performance, install the package with: `pip install huggingface_hub[hf_xet]` or `pip install hf_xet`\n"
     ]
    },
    {
     "name": "stdout",
     "output_type": "stream",
     "text": [
      "Shape de los embeddings de texto: torch.Size([2, 8, 768])\n"
     ]
    }
   ],
   "source": [
    "from src.text_encoder import TextEncoder\n",
    "import torch\n",
    "\n",
    "device = torch.device(\"cuda\" if torch.cuda.is_available() else \"cpu\")\n",
    "encoder = TextEncoder(device=device)\n",
    "\n",
    "texts = [\"a dog playing in the grass\", \"a person riding a bicycle\"]\n",
    "\n",
    "embeddings = encoder(texts)\n",
    "print(\"Shape de los embeddings de texto:\", embeddings.shape)  # (B, L, D)\n"
   ]
  },
  {
   "cell_type": "markdown",
   "id": "14abc496",
   "metadata": {},
   "source": [
    "Esto devuelve embeddings con tamaño:\n",
    "\n",
    "B: número de frases\n",
    "\n",
    "L: longitud máxima de tokens por frase\n",
    "\n",
    "D: dimensión del embedding de DistilBERT (768)"
   ]
  }
 ],
 "metadata": {
  "kernelspec": {
   "display_name": "venv",
   "language": "python",
   "name": "python3"
  },
  "language_info": {
   "codemirror_mode": {
    "name": "ipython",
    "version": 3
   },
   "file_extension": ".py",
   "mimetype": "text/x-python",
   "name": "python",
   "nbconvert_exporter": "python",
   "pygments_lexer": "ipython3",
   "version": "3.12.2"
  }
 },
 "nbformat": 4,
 "nbformat_minor": 5
}
